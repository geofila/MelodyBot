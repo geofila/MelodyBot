{
 "cells": [
  {
   "cell_type": "code",
   "execution_count": 1,
   "metadata": {},
   "outputs": [
    {
     "name": "stderr",
     "output_type": "stream",
     "text": [
      "Using TensorFlow backend.\n"
     ]
    }
   ],
   "source": [
    "from music21 import *\n",
    "from pathlib import Path\n",
    "import mido\n",
    "from tqdm import tqdm\n",
    "import numpy as np\n",
    "import time\n",
    "import sys\n",
    "from keras.layers import Input, Dense, Dropout, Embedding, LSTM\n",
    "from keras import Model\n",
    "from math import *\n",
    "\n",
    "from tensorflow.keras.backend import ctc_decode\n",
    "port = mido.open_output()"
   ]
  },
  {
   "cell_type": "markdown",
   "metadata": {},
   "source": [
    "<center>Define useful Functions</center>"
   ]
  },
  {
   "cell_type": "code",
   "execution_count": 2,
   "metadata": {},
   "outputs": [],
   "source": [
    "def decode_categorical(music):\n",
    "    notes, durations = [], []\n",
    "    for i in music:\n",
    "        raw = categorical_to_notes[i]\n",
    "        note, duration = raw.split(\"|\")\n",
    "        notes.append(int(note))\n",
    "        durations.append(float(duration))\n",
    "    return notes, durations\n",
    "\n",
    "def print_progress(c, t, msg = 'Note: '):\n",
    "    text = '\\r' + msg + str(c) + \"  time: \" + str(t)\n",
    "    sys.stdout.write(text)\n",
    "    sys.stdout.flush()\n",
    "\n",
    "def play_song(music, start):\n",
    "    time_now = 0\n",
    "    notes_music, dur_music = decode_categorical(music)\n",
    "    ticksPerQuarter = tpq[start]\n",
    "    t = tempos[start]\n",
    "    counter = 0\n",
    "    start_time = time.time()\n",
    "    defaults.ticksPerQuarter = ticksPerQuarter\n",
    "    for n, d in zip(notes_music, dur_music):\n",
    "        ticks = midi.translate.durationToMidi(duration.Duration(quarterLength = d))\n",
    "        real_time = mido.tick2second(ticks, ticksPerQuarter , t)\n",
    "        time.sleep(real_time)\n",
    "        msg = mido.Message(type = 'note_on', note = n, velocity = 127)\n",
    "        port.send(msg)\n",
    "        counter += 1\n",
    "        time_now = time_now + real_time\n",
    "        print_progress(counter, time_now)\n",
    "        \n",
    "def create_midi_file(music, start, filename):\n",
    "    notes_music, dur_music = decode_categorical(music)\n",
    "    mid = mido.MidiFile()\n",
    "    track = mido.MidiTrack()\n",
    "    mid.tracks.append(track)\n",
    "    track.append(mido.MetaMessage('set_tempo', tempo = tempos[start]))\n",
    "    mid.ticks_per_beat = tpq[start]\n",
    "\n",
    "    for n, d in zip(notes_music, dur_music):\n",
    "        ticks = midi.translate.durationToMidi(duration.Duration(quarterLength = d))\n",
    "        msg = mido.Message(type = 'note_on', note = n, velocity = 127, time = ticks)\n",
    "        track.append(msg)\n",
    "#         msg = mido........\n",
    "\n",
    "    mid.save(filename.format (1))\n",
    "    return filename"
   ]
  },
  {
   "cell_type": "markdown",
   "metadata": {},
   "source": [
    "<center>Import Dataset</center>"
   ]
  },
  {
   "cell_type": "code",
   "execution_count": 3,
   "metadata": {},
   "outputs": [],
   "source": [
    "# decode('../piano_dataset')\n",
    "notes = np.load('../datasets/Piano/notesDurations.npy')\n",
    "tempos = np.load('../datasets/Piano/tempos.npy')\n",
    "tpq = np.load('../datasets/Piano/tpq.npy')"
   ]
  },
  {
   "cell_type": "code",
   "execution_count": null,
   "metadata": {},
   "outputs": [],
   "source": [
    "notes = np.load('../dataset/Guitar/notes.npy')[:1500000]\n",
    "tempos = np.load('../dataset/Guitar/tempos.npy')[:1500000]\n",
    "tpq = np.load('../dataset/Guitar/tpq.npy')[:1500000]"
   ]
  },
  {
   "cell_type": "code",
   "execution_count": 103,
   "metadata": {},
   "outputs": [],
   "source": [
    "notes = np.load('../dataset/Shuffle/notes.npy')\n",
    "tempos = np.load('../dataset/Shuffle/tempos.npy')\n",
    "tpq = np.load('../dataset/Shuffle/tpq.npy')"
   ]
  },
  {
   "cell_type": "code",
   "execution_count": 4,
   "metadata": {},
   "outputs": [],
   "source": [
    "unique = np.unique(notes)\n",
    "notes_to_categorical = {o:i for i, o in enumerate(unique)}\n",
    "categorical_to_notes = {i:o for i, o in enumerate(unique)}\n",
    "cat_notes = [notes_to_categorical[i] for i in notes]"
   ]
  },
  {
   "cell_type": "code",
   "execution_count": 5,
   "metadata": {},
   "outputs": [
    {
     "name": "stdout",
     "output_type": "stream",
     "text": [
      "2059\n"
     ]
    }
   ],
   "source": [
    "batch_size = 64\n",
    "seq_length = 20\n",
    "lstm_cells = 512\n",
    "cardinality = max(cat_notes) + 1\n",
    "print (cardinality)"
   ]
  },
  {
   "cell_type": "markdown",
   "metadata": {},
   "source": [
    "<center>Create Training Model</center>"
   ]
  },
  {
   "cell_type": "code",
   "execution_count": 6,
   "metadata": {},
   "outputs": [],
   "source": [
    "def create_model(batch_size, inp_card,emb_size = 100, \n",
    "                   lstm_cells = 256, dropout = 0.4):\n",
    "    inp = Input (batch_shape=(batch_size, None), dtype = 'int32', name = 'inp')\n",
    "    inp_emb = Embedding(input_dim = inp_card, output_dim= emb_size, name = 'inp_emb')(inp)\n",
    "                 \n",
    "    lstm1 = LSTM(lstm_cells, return_sequences= True, stateful= True, name = 'lstm1')(inp_emb)\n",
    "    drp1 = Dropout(dropout)(lstm1)\n",
    "    lstm2 = LSTM(lstm_cells, return_sequences= True, stateful= True, name = 'lstm2')(drp1)\n",
    "    drp2 = Dropout(dropout)(lstm2)\n",
    "    lstm3 = LSTM(lstm_cells, return_sequences= True, stateful= True, name = 'lstm3')(drp2)\n",
    "    drp3 = Dropout(dropout)(lstm3)\n",
    "    lstm4 = LSTM(lstm_cells, stateful= True, name = 'lstm4')(drp3)\n",
    "    drp4 = Dropout(dropout)(lstm4)\n",
    "    \n",
    "    out = Dense(inp_card, activation= 'softmax', name = 'out')(drp4)\n",
    "    \n",
    "    model = Model(inputs= inp, outputs= out)\n",
    "    return model"
   ]
  },
  {
   "cell_type": "code",
   "execution_count": 10,
   "metadata": {},
   "outputs": [],
   "source": [
    "model = create_model(batch_size, cardinality)"
   ]
  },
  {
   "cell_type": "code",
   "execution_count": 11,
   "metadata": {},
   "outputs": [
    {
     "name": "stdout",
     "output_type": "stream",
     "text": [
      "_________________________________________________________________\n",
      "Layer (type)                 Output Shape              Param #   \n",
      "=================================================================\n",
      "inp (InputLayer)             (64, None)                0         \n",
      "_________________________________________________________________\n",
      "inp_emb (Embedding)          (64, None, 100)           205900    \n",
      "_________________________________________________________________\n",
      "lstm1 (LSTM)                 (64, None, 256)           365568    \n",
      "_________________________________________________________________\n",
      "dropout_1 (Dropout)          (64, None, 256)           0         \n",
      "_________________________________________________________________\n",
      "lstm2 (LSTM)                 (64, None, 256)           525312    \n",
      "_________________________________________________________________\n",
      "dropout_2 (Dropout)          (64, None, 256)           0         \n",
      "_________________________________________________________________\n",
      "lstm3 (LSTM)                 (64, None, 256)           525312    \n",
      "_________________________________________________________________\n",
      "dropout_3 (Dropout)          (64, None, 256)           0         \n",
      "_________________________________________________________________\n",
      "lstm4 (LSTM)                 (64, 256)                 525312    \n",
      "_________________________________________________________________\n",
      "dropout_4 (Dropout)          (64, 256)                 0         \n",
      "_________________________________________________________________\n",
      "out (Dense)                  (64, 2059)                529163    \n",
      "=================================================================\n",
      "Total params: 2,676,567\n",
      "Trainable params: 2,676,567\n",
      "Non-trainable params: 0\n",
      "_________________________________________________________________\n"
     ]
    }
   ],
   "source": [
    "model.summary()"
   ]
  },
  {
   "cell_type": "code",
   "execution_count": 7,
   "metadata": {},
   "outputs": [],
   "source": [
    "def get_train_size(inp_size, batch_size):\n",
    "    for i in range (inp_size, 0, -1):\n",
    "        if i % batch_size == 0:\n",
    "            return i\n",
    "        \n",
    "def create_dataset(notes, seq_length, batch_size):\n",
    "    size = get_train_size(len(notes) - seq_length - 1, batch_size)\n",
    "    inp, outp = [], []\n",
    "    for i in tqdm(range (size)):\n",
    "        inp.append(notes[i: i + seq_length])\n",
    "        outp.append(notes[i + seq_length])\n",
    "    inp = np.array(inp)\n",
    "    outp = np.array(outp)\n",
    "    return inp, outp"
   ]
  },
  {
   "cell_type": "code",
   "execution_count": 8,
   "metadata": {},
   "outputs": [
    {
     "name": "stderr",
     "output_type": "stream",
     "text": [
      "100%|████████████████████████████████████████████████████████████████████| 1422592/1422592 [00:03<00:00, 367908.79it/s]\n"
     ]
    }
   ],
   "source": [
    "inp, outp = create_dataset(cat_notes, seq_length, batch_size)"
   ]
  },
  {
   "cell_type": "code",
   "execution_count": 9,
   "metadata": {},
   "outputs": [
    {
     "data": {
      "text/plain": [
       "1422671"
      ]
     },
     "execution_count": 9,
     "metadata": {},
     "output_type": "execute_result"
    }
   ],
   "source": [
    "len(cat_notes)"
   ]
  },
  {
   "cell_type": "markdown",
   "metadata": {},
   "source": [
    "<center>Evaluate Model</center>"
   ]
  },
  {
   "cell_type": "code",
   "execution_count": 10,
   "metadata": {},
   "outputs": [],
   "source": [
    "def predict(pred_model, inp, steps, start):\n",
    "    pred_model.reset_states()\n",
    "    if start == -1:\n",
    "        start = np.random.randint(0, len(cat_notes))\n",
    "    source = inp[start].reshape((1, -1))\n",
    "    music = list(source[0])\n",
    "    for i in tqdm(range (steps)):\n",
    "        prediction = pred_model.predict(x = source, batch_size = 1)\n",
    "        prediction = np.argmax(prediction)\n",
    "        source = np.append(source, prediction)[1:].reshape((1, -1))\n",
    "        music.append(prediction)\n",
    "    return music, start"
   ]
  },
  {
   "cell_type": "code",
   "execution_count": 11,
   "metadata": {},
   "outputs": [],
   "source": [
    "pred_model = create_model(1, cardinality, lstm_cells = 512, dropout = 0)\n",
    "pred_model.load_weights('Weights/20to1_Piano_512_269_1.1553.hdf5')\n",
    "error = 1.1553"
   ]
  },
  {
   "cell_type": "code",
   "execution_count": 18,
   "metadata": {},
   "outputs": [
    {
     "name": "stdout",
     "output_type": "stream",
     "text": [
      "_________________________________________________________________\n",
      "Layer (type)                 Output Shape              Param #   \n",
      "=================================================================\n",
      "inp (InputLayer)             (1, None)                 0         \n",
      "_________________________________________________________________\n",
      "inp_emb (Embedding)          (1, None, 100)            205900    \n",
      "_________________________________________________________________\n",
      "lstm1 (LSTM)                 (1, None, 512)            1255424   \n",
      "_________________________________________________________________\n",
      "dropout_9 (Dropout)          (1, None, 512)            0         \n",
      "_________________________________________________________________\n",
      "lstm2 (LSTM)                 (1, None, 512)            2099200   \n",
      "_________________________________________________________________\n",
      "dropout_10 (Dropout)         (1, None, 512)            0         \n",
      "_________________________________________________________________\n",
      "lstm3 (LSTM)                 (1, None, 512)            2099200   \n",
      "_________________________________________________________________\n",
      "dropout_11 (Dropout)         (1, None, 512)            0         \n",
      "_________________________________________________________________\n",
      "lstm4 (LSTM)                 (1, 512)                  2099200   \n",
      "_________________________________________________________________\n",
      "dropout_12 (Dropout)         (1, 512)                  0         \n",
      "_________________________________________________________________\n",
      "out (Dense)                  (1, 2059)                 1056267   \n",
      "=================================================================\n",
      "Total params: 8,815,191\n",
      "Trainable params: 8,815,191\n",
      "Non-trainable params: 0\n",
      "_________________________________________________________________\n"
     ]
    }
   ],
   "source": [
    "pred_model.summary()"
   ]
  },
  {
   "cell_type": "code",
   "execution_count": 21,
   "metadata": {},
   "outputs": [
    {
     "name": "stderr",
     "output_type": "stream",
     "text": [
      "100%|████████████████████████████████████████████████████████████████████████████████| 400/400 [00:22<00:00, 17.40it/s]\n"
     ]
    },
    {
     "name": "stdout",
     "output_type": "stream",
     "text": [
      "Note: 394  time: 59.904199999999854"
     ]
    },
    {
     "ename": "KeyboardInterrupt",
     "evalue": "",
     "output_type": "error",
     "traceback": [
      "\u001b[1;31m---------------------------------------------------------------------------\u001b[0m",
      "\u001b[1;31mKeyboardInterrupt\u001b[0m                         Traceback (most recent call last)",
      "\u001b[1;32m<ipython-input-21-f2df80b0a26f>\u001b[0m in \u001b[0;36m<module>\u001b[1;34m\u001b[0m\n\u001b[0;32m      1\u001b[0m \u001b[0mstart\u001b[0m \u001b[1;33m=\u001b[0m \u001b[1;36m1421453\u001b[0m\u001b[1;33m\u001b[0m\u001b[0m\n\u001b[0;32m      2\u001b[0m \u001b[0mmusic\u001b[0m\u001b[1;33m,\u001b[0m \u001b[0mstart\u001b[0m \u001b[1;33m=\u001b[0m \u001b[0mpredict\u001b[0m\u001b[1;33m(\u001b[0m\u001b[0mpred_model\u001b[0m\u001b[1;33m,\u001b[0m \u001b[0minp\u001b[0m\u001b[1;33m,\u001b[0m \u001b[1;36m400\u001b[0m\u001b[1;33m,\u001b[0m \u001b[0mstart\u001b[0m\u001b[1;33m)\u001b[0m\u001b[1;33m\u001b[0m\u001b[0m\n\u001b[1;32m----> 3\u001b[1;33m \u001b[0mplay_song\u001b[0m\u001b[1;33m(\u001b[0m\u001b[0mmusic\u001b[0m\u001b[1;33m,\u001b[0m \u001b[0mstart\u001b[0m\u001b[1;33m)\u001b[0m\u001b[1;33m\u001b[0m\u001b[0m\n\u001b[0m",
      "\u001b[1;32m<ipython-input-2-b1557c8e44ee>\u001b[0m in \u001b[0;36mplay_song\u001b[1;34m(music, start)\u001b[0m\n\u001b[0;32m     24\u001b[0m         \u001b[0mticks\u001b[0m \u001b[1;33m=\u001b[0m \u001b[0mmidi\u001b[0m\u001b[1;33m.\u001b[0m\u001b[0mtranslate\u001b[0m\u001b[1;33m.\u001b[0m\u001b[0mdurationToMidi\u001b[0m\u001b[1;33m(\u001b[0m\u001b[0mduration\u001b[0m\u001b[1;33m.\u001b[0m\u001b[0mDuration\u001b[0m\u001b[1;33m(\u001b[0m\u001b[0mquarterLength\u001b[0m \u001b[1;33m=\u001b[0m \u001b[0md\u001b[0m\u001b[1;33m)\u001b[0m\u001b[1;33m)\u001b[0m\u001b[1;33m\u001b[0m\u001b[0m\n\u001b[0;32m     25\u001b[0m         \u001b[0mreal_time\u001b[0m \u001b[1;33m=\u001b[0m \u001b[0mmido\u001b[0m\u001b[1;33m.\u001b[0m\u001b[0mtick2second\u001b[0m\u001b[1;33m(\u001b[0m\u001b[0mticks\u001b[0m\u001b[1;33m,\u001b[0m \u001b[0mticksPerQuarter\u001b[0m \u001b[1;33m,\u001b[0m \u001b[0mt\u001b[0m\u001b[1;33m)\u001b[0m\u001b[1;33m\u001b[0m\u001b[0m\n\u001b[1;32m---> 26\u001b[1;33m         \u001b[0mtime\u001b[0m\u001b[1;33m.\u001b[0m\u001b[0msleep\u001b[0m\u001b[1;33m(\u001b[0m\u001b[0mreal_time\u001b[0m\u001b[1;33m)\u001b[0m\u001b[1;33m\u001b[0m\u001b[0m\n\u001b[0m\u001b[0;32m     27\u001b[0m         \u001b[0mmsg\u001b[0m \u001b[1;33m=\u001b[0m \u001b[0mmido\u001b[0m\u001b[1;33m.\u001b[0m\u001b[0mMessage\u001b[0m\u001b[1;33m(\u001b[0m\u001b[0mtype\u001b[0m \u001b[1;33m=\u001b[0m \u001b[1;34m'note_on'\u001b[0m\u001b[1;33m,\u001b[0m \u001b[0mnote\u001b[0m \u001b[1;33m=\u001b[0m \u001b[0mn\u001b[0m\u001b[1;33m,\u001b[0m \u001b[0mvelocity\u001b[0m \u001b[1;33m=\u001b[0m \u001b[1;36m127\u001b[0m\u001b[1;33m)\u001b[0m\u001b[1;33m\u001b[0m\u001b[0m\n\u001b[0;32m     28\u001b[0m         \u001b[0mport\u001b[0m\u001b[1;33m.\u001b[0m\u001b[0msend\u001b[0m\u001b[1;33m(\u001b[0m\u001b[0mmsg\u001b[0m\u001b[1;33m)\u001b[0m\u001b[1;33m\u001b[0m\u001b[0m\n",
      "\u001b[1;31mKeyboardInterrupt\u001b[0m: "
     ]
    }
   ],
   "source": [
    "start = 1421453\n",
    "music, start = predict(pred_model, inp, 400, start)\n",
    "play_song(music, start)"
   ]
  },
  {
   "cell_type": "code",
   "execution_count": 107,
   "metadata": {},
   "outputs": [
    {
     "data": {
      "text/plain": [
       "'../../Music Generation/FFLSTM/Mixed Samples/samples_512/seq_512_929590_1.616.mid'"
      ]
     },
     "execution_count": 107,
     "metadata": {},
     "output_type": "execute_result"
    }
   ],
   "source": [
    "filename = 'Piano Samples/samples_512/seq_' + str(lstm_cells) + \"_\" + str(start) + \"_\" + str(error) + '.mid'\n",
    "create_midi_file(music, start, filename)"
   ]
  },
  {
   "cell_type": "code",
   "execution_count": null,
   "metadata": {},
   "outputs": [],
   "source": [
    "import os\n",
    "os.listdir('../../Music Generation/')"
   ]
  },
  {
   "cell_type": "code",
   "execution_count": null,
   "metadata": {},
   "outputs": [],
   "source": [
    "def beam_search_predict(pred_model, inp, steps, k):\n",
    "    pred_model.reset_states()\n",
    "    start_time = time.time()\n",
    "    sequences = [[list(), 1.0]]\n",
    "    for step in tqdm(range (steps)):\n",
    "        all_candidates  = list()\n",
    "        for i in range (len (sequences)):\n",
    "            seq, score = sequences[i]\n",
    "            temp_source = np.append(source, seq)[len(seq):].reshape(1, -1)\n",
    "            prediction = pred_model.predict(x = temp_source, batch_size = 1)\n",
    "            prediction = prediction.flatten()\n",
    "            for j in range(len(prediction)):\n",
    "                if prediction[j] != 0:\n",
    "                    candidate = [seq + [j], score * -log(prediction[j])]\n",
    "                all_candidates.append(candidate)\n",
    "        ordered = sorted(all_candidates, key=lambda tup:tup[1])\n",
    "        # select k best\n",
    "        sequences = ordered[:k]\n",
    "    print ('Took: ', time.time() - start_time, 'sec')\n",
    "    return sequences[0]"
   ]
  },
  {
   "cell_type": "code",
   "execution_count": null,
   "metadata": {},
   "outputs": [],
   "source": [
    "# start = np.random.randint(0, len(cat_notes))\n",
    "source = inp[start]\n",
    "beam_music = beam_search_predict(pred_model, source, 40, 5)\n",
    "beam_music = np.append(source, beam_music[0], axis = 0)\n",
    "print (beam_music)\n",
    "play_song(beam_music, start)"
   ]
  },
  {
   "cell_type": "code",
   "execution_count": null,
   "metadata": {},
   "outputs": [],
   "source": [
    "play_song(beam_music, start)"
   ]
  },
  {
   "cell_type": "code",
   "execution_count": null,
   "metadata": {},
   "outputs": [],
   "source": [
    "greedy_music = beam_search_predict(pred_model, source, 300, 1)\n",
    "greedy_music = np.append(source, greedy_music[0], axis = 0)\n",
    "print (greedy_music)\n",
    "play_song(greedy_music, start)"
   ]
  },
  {
   "cell_type": "code",
   "execution_count": null,
   "metadata": {},
   "outputs": [],
   "source": [
    "print (greedy_music)"
   ]
  },
  {
   "cell_type": "code",
   "execution_count": null,
   "metadata": {},
   "outputs": [],
   "source": [
    "def search(model, src_input, k=1, sequence_max_len=25):\n",
    "    # (log(1), initialize_of_zeros)\n",
    "    k_beam = [(0, [0]*(sequence_max_len+1))]\n",
    "\n",
    "    # l : point on target sentence to predict\n",
    "    for l in range(sequence_max_len):\n",
    "        all_k_beams = []\n",
    "        for prob, sent_predict in k_beam:\n",
    "            s = np.append(src_input, np.argmax(sent_predict))\n",
    "            predicted = model.predict(s, batch_size = 1).flatten()\n",
    "            # top k!\n",
    "            possible_k = predicted[l].argsort()[-k:][::-1]\n",
    "\n",
    "            # add to all possible candidates for k-beams\n",
    "            all_k_beams += [\n",
    "                (\n",
    "                    sum(np.log(predicted[i][sent_predict[i+1]]) for i in range(l)) + np.log(predicted[l][next_wid]),\n",
    "                    list(sent_predict[:l+1])+[next_wid]+[0]*(sequence_max_len-l-1)\n",
    "                )\n",
    "                for next_wid in possible_k\n",
    "            ]\n",
    "\n",
    "        # top k\n",
    "        k_beam = sorted(all_k_beams)[-k:]\n",
    "\n",
    "    return k_beam"
   ]
  },
  {
   "cell_type": "code",
   "execution_count": null,
   "metadata": {},
   "outputs": [],
   "source": [
    "start = np.random.randint(0, len(cat_notes))\n",
    "source = inp[start]\n",
    "beam_music = search(pred_model, source)\n",
    "beam_music = np.append(source, beam_music[0], axis = 0)\n",
    "print (beam_music)\n",
    "play_song(beam_music, start)"
   ]
  },
  {
   "cell_type": "code",
   "execution_count": null,
   "metadata": {},
   "outputs": [],
   "source": [
    "model = create_model(256, cardinality)\n",
    "opt = keras.optimizers.adam()\n",
    "model.compile(opt, loss = 'sparse_categorical_crossentropy')\n",
    "loss = []\n",
    "lr = []\n",
    "for i in range (0, 500):\n",
    "    K.set_value(model.optimizer.lr, np.exp(i/80)/10000)\n",
    "    a = model.train_on_batch(inp[i*64 : i*64 +64], outp[i*64 : i*64 +64])\n",
    "    loss.append(a)\n",
    "    lr.append(np.exp(i/80)/10000)\n",
    "    print (i)"
   ]
  },
  {
   "cell_type": "code",
   "execution_count": null,
   "metadata": {},
   "outputs": [],
   "source": [
    "import matplotlib.pyplot as plt\n",
    "plt.plot(lr, loss)\n",
    "plt.xlabel('Learning Rate')\n",
    "plt.ylabel('Loss')"
   ]
  },
  {
   "cell_type": "code",
   "execution_count": null,
   "metadata": {},
   "outputs": [],
   "source": [
    "model = create_model(batch_size, cardinality, dropout= 0.0, lstm_cells= 256)\n",
    "model.compile ('rmsprop', loss = 'sparse_categorical_crossentropy', metrics = ['acc'])\n",
    "history = model.fit(x = inp[:2048*4], y = outp[:2048*4], \n",
    "        validation_data=(inp[2048*4:2048*4 + 512], outp[2048*4:2048*4 +512]), epochs = 100, \n",
    "          batch_size = batch_size, verbose = 2)"
   ]
  },
  {
   "cell_type": "code",
   "execution_count": 21,
   "metadata": {},
   "outputs": [],
   "source": [
    "import matplotlib.pyplot as plt\n",
    "# plt.plot(history.history['loss'])\n",
    "# plt.plot(history.history['val_loss'])"
   ]
  },
  {
   "cell_type": "code",
   "execution_count": null,
   "metadata": {},
   "outputs": [],
   "source": [
    "2048*4"
   ]
  },
  {
   "cell_type": "code",
   "execution_count": 23,
   "metadata": {},
   "outputs": [
    {
     "data": {
      "text/plain": [
       "[<matplotlib.lines.Line2D at 0x27489342208>]"
      ]
     },
     "execution_count": 23,
     "metadata": {},
     "output_type": "execute_result"
    },
    {
     "data": {
      "image/png": "[encoded data removed]",
      "text/plain": [
       "<Figure size 432x288 with 1 Axes>"
      ]
     },
     "metadata": {
      "needs_background": "light"
     },
     "output_type": "display_data"
    }
   ],
   "source": [
    "plt.plot(np.random.randn(1000))"
   ]
  },
  {
   "cell_type": "code",
   "execution_count": 126,
   "metadata": {},
   "outputs": [
    {
     "name": "stdout",
     "output_type": "stream",
     "text": [
      "_________________________________________________________________\n",
      "Layer (type)                 Output Shape              Param #   \n",
      "=================================================================\n",
      "inp_emb (Embedding)          multiple                  243900    \n",
      "=================================================================\n",
      "Total params: 243,900\n",
      "Trainable params: 243,900\n",
      "Non-trainable params: 0\n",
      "_________________________________________________________________\n",
      "None\n"
     ]
    }
   ],
   "source": [
    "# define the model\n",
    "model = keras.Sequential()\n",
    "model.add(pred_model.get_layer('inp_emb'))\n",
    "# compile the model\n",
    "model.compile(optimizer='adam', loss = 'mse')\n",
    "# summarize the model\n",
    "print(model.summary())\n",
    "model.set_weights()"
   ]
  },
  {
   "cell_type": "code",
   "execution_count": 128,
   "metadata": {},
   "outputs": [],
   "source": [
    "a = np.zeros((max(cat_notes), 100))\n",
    "for i in range (max(cat_notes)):\n",
    "    a[i] = model.predict(np.array([i]))"
   ]
  },
  {
   "cell_type": "code",
   "execution_count": 130,
   "metadata": {},
   "outputs": [
    {
     "data": {
      "text/plain": [
       "(2438, 2)"
      ]
     },
     "execution_count": 130,
     "metadata": {},
     "output_type": "execute_result"
    }
   ],
   "source": [
    "from sklearn.manifold import TSNE\n",
    "X_embedded = TSNE(n_components=2).fit_transform(a)\n",
    "X_embedded.shape"
   ]
  },
  {
   "cell_type": "code",
   "execution_count": 131,
   "metadata": {},
   "outputs": [
    {
     "data": {
      "text/plain": [
       "<matplotlib.collections.PathCollection at 0x274c6aef748>"
      ]
     },
     "execution_count": 131,
     "metadata": {},
     "output_type": "execute_result"
    },
    {
     "data": {
      "image/png": "[encoded data removed]",
      "text/plain": [
       "<Figure size 432x288 with 1 Axes>"
      ]
     },
     "metadata": {
      "needs_background": "light"
     },
     "output_type": "display_data"
    }
   ],
   "source": [
    "plt.scatter(a[:,0], a[:,1])"
   ]
  },
  {
   "cell_type": "code",
   "execution_count": 134,
   "metadata": {},
   "outputs": [
    {
     "data": {
      "text/plain": [
       "array([[ 0.38008648, -0.16381885,  0.11532775, ..., -0.11792203,\n",
       "        -0.16795221,  0.18744501],\n",
       "       [-0.15319872,  0.16554406, -0.15693069, ..., -0.02008441,\n",
       "         0.00041295, -0.00460673],\n",
       "       [-0.03835658, -0.17053121, -0.1603761 , ...,  0.28102586,\n",
       "        -0.03559452,  0.4122688 ],\n",
       "       ...,\n",
       "       [ 0.12487192, -0.11440939, -0.31809184, ...,  0.14948356,\n",
       "        -0.06850366,  0.19561554],\n",
       "       [ 0.23688048, -0.03623701, -0.28688443, ..., -0.04834721,\n",
       "         0.1639376 , -0.03024614],\n",
       "       [-0.11499   ,  0.27004316, -0.08497734, ...,  0.06895045,\n",
       "         0.04987559, -0.03354265]], dtype=float32)"
      ]
     },
     "execution_count": 134,
     "metadata": {},
     "output_type": "execute_result"
    }
   ],
   "source": [
    "pred_model.get_weights()[0]"
   ]
  },
  {
   "cell_type": "code",
   "execution_count": 143,
   "metadata": {},
   "outputs": [],
   "source": [
    "i = Input (batch_shape=(batch_size, None , 10), dtype = 'float32', name = 'inp')\n",
    "lstm1 = LSTM(lstm_cells, return_sequences= True, stateful= True, name = 'lstm1')(i)\n",
    "m = Model(i, lstm1)"
   ]
  },
  {
   "cell_type": "code",
   "execution_count": 145,
   "metadata": {},
   "outputs": [
    {
     "name": "stdout",
     "output_type": "stream",
     "text": [
      "_________________________________________________________________\n",
      "Layer (type)                 Output Shape              Param #   \n",
      "=================================================================\n",
      "inp (InputLayer)             (64, None, 10)            0         \n",
      "_________________________________________________________________\n",
      "lstm1 (LSTM)                 (64, None, 512)           1071104   \n",
      "=================================================================\n",
      "Total params: 1,071,104\n",
      "Trainable params: 1,071,104\n",
      "Non-trainable params: 0\n",
      "_________________________________________________________________\n"
     ]
    }
   ],
   "source": [
    "m.summary()"
   ]
  },
  {
   "cell_type": "code",
   "execution_count": 148,
   "metadata": {},
   "outputs": [],
   "source": [
    "def get_lstm_param(inp, lstm_cells):\n",
    "    return 4*((inp + 1) * lstm_cells + lstm_cells*lstm_cells)"
   ]
  },
  {
   "cell_type": "code",
   "execution_count": 17,
   "metadata": {},
   "outputs": [
    {
     "ename": "FileNotFoundError",
     "evalue": "[Errno 2] No such file or directory: 'datasets/Piano/aug_piano_notes.npy'",
     "output_type": "error",
     "traceback": [
      "\u001b[1;31m---------------------------------------------------------------------------\u001b[0m",
      "\u001b[1;31mFileNotFoundError\u001b[0m                         Traceback (most recent call last)",
      "\u001b[1;32m<ipython-input-17-7d487e77c485>\u001b[0m in \u001b[0;36m<module>\u001b[1;34m\u001b[0m\n\u001b[1;32m----> 1\u001b[1;33m \u001b[0mnotes\u001b[0m \u001b[1;33m=\u001b[0m \u001b[0mnp\u001b[0m\u001b[1;33m.\u001b[0m\u001b[0mload\u001b[0m\u001b[1;33m(\u001b[0m\u001b[1;34m'datasets/Piano/aug_piano_notes.npy'\u001b[0m\u001b[1;33m)\u001b[0m\u001b[1;33m\u001b[0m\u001b[0m\n\u001b[0m\u001b[0;32m      2\u001b[0m \u001b[1;31m# unique = np.unique(notes)\u001b[0m\u001b[1;33m\u001b[0m\u001b[1;33m\u001b[0m\u001b[0m\n\u001b[0;32m      3\u001b[0m \u001b[1;31m# notes_to_categorical = {o:i for i, o in enumerate(unique)}\u001b[0m\u001b[1;33m\u001b[0m\u001b[1;33m\u001b[0m\u001b[0m\n\u001b[0;32m      4\u001b[0m \u001b[1;31m# categorical_to_notes = {i:o for i, o in enumerate(unique)}\u001b[0m\u001b[1;33m\u001b[0m\u001b[1;33m\u001b[0m\u001b[0m\n\u001b[0;32m      5\u001b[0m \u001b[1;31m# cat_notes = [notes_to_categorical[i] for i in notes]\u001b[0m\u001b[1;33m\u001b[0m\u001b[1;33m\u001b[0m\u001b[0m\n",
      "\u001b[1;32mc:\\users\\geofila\\anaconda3\\envs\\myenv\\lib\\site-packages\\numpy\\lib\\npyio.py\u001b[0m in \u001b[0;36mload\u001b[1;34m(file, mmap_mode, allow_pickle, fix_imports, encoding)\u001b[0m\n\u001b[0;32m    382\u001b[0m     \u001b[0mown_fid\u001b[0m \u001b[1;33m=\u001b[0m \u001b[1;32mFalse\u001b[0m\u001b[1;33m\u001b[0m\u001b[0m\n\u001b[0;32m    383\u001b[0m     \u001b[1;32mif\u001b[0m \u001b[0misinstance\u001b[0m\u001b[1;33m(\u001b[0m\u001b[0mfile\u001b[0m\u001b[1;33m,\u001b[0m \u001b[0mbasestring\u001b[0m\u001b[1;33m)\u001b[0m\u001b[1;33m:\u001b[0m\u001b[1;33m\u001b[0m\u001b[0m\n\u001b[1;32m--> 384\u001b[1;33m         \u001b[0mfid\u001b[0m \u001b[1;33m=\u001b[0m \u001b[0mopen\u001b[0m\u001b[1;33m(\u001b[0m\u001b[0mfile\u001b[0m\u001b[1;33m,\u001b[0m \u001b[1;34m\"rb\"\u001b[0m\u001b[1;33m)\u001b[0m\u001b[1;33m\u001b[0m\u001b[0m\n\u001b[0m\u001b[0;32m    385\u001b[0m         \u001b[0mown_fid\u001b[0m \u001b[1;33m=\u001b[0m \u001b[1;32mTrue\u001b[0m\u001b[1;33m\u001b[0m\u001b[0m\n\u001b[0;32m    386\u001b[0m     \u001b[1;32melif\u001b[0m \u001b[0mis_pathlib_path\u001b[0m\u001b[1;33m(\u001b[0m\u001b[0mfile\u001b[0m\u001b[1;33m)\u001b[0m\u001b[1;33m:\u001b[0m\u001b[1;33m\u001b[0m\u001b[0m\n",
      "\u001b[1;31mFileNotFoundError\u001b[0m: [Errno 2] No such file or directory: 'datasets/Piano/aug_piano_notes.npy'"
     ]
    }
   ],
   "source": [
    "notes = np.load('../datasets/Piano/')\n",
    "# unique = np.unique(notes)\n",
    "# notes_to_categorical = {o:i for i, o in enumerate(unique)}\n",
    "# categorical_to_notes = {i:o for i, o in enumerate(unique)}\n",
    "# cat_notes = [notes_to_categorical[i] for i in notes]"
   ]
  },
  {
   "cell_type": "code",
   "execution_count": 12,
   "metadata": {},
   "outputs": [
    {
     "name": "stdout",
     "output_type": "stream",
     "text": [
      "[81, 81, 88, 88, 88, 88, 86, 86, 88, 88]\n"
     ]
    }
   ],
   "source": [
    "real_notes = []\n",
    "for i in notes:\n",
    "    n = i.split(\"|\")[0]\n",
    "    real_notes.append(int (n))\n",
    "print (real_notes[:10])"
   ]
  },
  {
   "cell_type": "code",
   "execution_count": 14,
   "metadata": {},
   "outputs": [
    {
     "data": {
      "text/plain": [
       "(array([  4006.,  42833.,  96619., 218746., 303994., 351175., 267527.,\n",
       "        103018.,  30852.,   3901.]),\n",
       " array([ 21. ,  29.6,  38.2,  46.8,  55.4,  64. ,  72.6,  81.2,  89.8,\n",
       "         98.4, 107. ]),\n",
       " <a list of 10 Patch objects>)"
      ]
     },
     "execution_count": 14,
     "metadata": {},
     "output_type": "execute_result"
    },
    {
     "data": {
      "image/png": "[encoded data removed]",
      "text/plain": [
       "<Figure size 432x288 with 1 Axes>"
      ]
     },
     "metadata": {
      "needs_background": "light"
     },
     "output_type": "display_data"
    }
   ],
   "source": [
    "import matplotlib.pyplot as plt\n",
    "plt.hist(real_notes)"
   ]
  },
  {
   "cell_type": "code",
   "execution_count": null,
   "metadata": {},
   "outputs": [],
   "source": [
    "notes = np.load('../../Music Generation/datasets/Piano/aug_piano_notes.npy')\n"
   ]
  }
 ],
 "metadata": {
  "kernelspec": {
   "display_name": "Python 3",
   "language": "python",
   "name": "python3"
  },
  "language_info": {
   "codemirror_mode": {
    "name": "ipython",
    "version": 3
   },
   "file_extension": ".py",
   "mimetype": "text/x-python",
   "name": "python",
   "nbconvert_exporter": "python",
   "pygments_lexer": "ipython3",
   "version": "3.5.6"
  }
 },
 "nbformat": 4,
 "nbformat_minor": 2
}
